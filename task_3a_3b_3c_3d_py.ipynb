{
  "nbformat": 4,
  "nbformat_minor": 0,
  "metadata": {
    "colab": {
      "provenance": []
    },
    "kernelspec": {
      "name": "python3",
      "display_name": "Python 3"
    },
    "language_info": {
      "name": "python"
    }
  },
  "cells": [
    {
      "cell_type": "code",
      "execution_count": null,
      "metadata": {
        "id": "u_ebpa-LGNzu"
      },
      "outputs": [],
      "source": [
        "import datetime\n",
        "\n",
        "# Date validation and day name extraction\n",
        "input_date = input(\"Enter the date in MM DD YYYY format: \")\n",
        "month, day, year = map(int, input_date.split())\n",
        "\n",
        "# Check if the year is within the specified constraints\n",
        "if 2000 < year < 3000:\n",
        "    try:\n",
        "        x = datetime.datetime(year, month, day)\n",
        "        day_name = x.strftime(\"%A\").upper()\n",
        "        print(day_name)\n",
        "    except ValueError:\n",
        "        print(\"Invalid date entered.\")\n",
        "else:\n",
        "    print(\"Year is not within the specified constraints.\")\n",
        "\n",
        "# Armstrong Number calculation\n",
        "def compute_armstrong(x):\n",
        "    n = len(str(x))\n",
        "    armstrong_sum = sum(int(i)**n for i in str(x)) # Use integer exponentiation\n",
        "    return armstrong_sum == x\n",
        "\n",
        "number = int(input(\"Enter a number: \"))\n",
        "if compute_armstrong(number):\n",
        "    print(f\"{number} is an Armstrong number\")\n",
        "else:\n",
        "    print(f\"{number} is not an Armstrong number\")\n",
        "\n",
        "# Euclidean distance calculation (assuming the module is available)\n",
        "# If euclidean_distance_module.py is a separate file, it needs to be imported properly\n",
        "# from euclidean_distance_module import edistance\n",
        "# X = (1, 3)\n",
        "# Y = (2, 3)\n",
        "# result = edistance(X, Y)\n",
        "# print(\"Euclidean distance between X and Y:\", result)\n",
        "\n",
        "# Module examples (assuming T3, mod1, mod2 are available)\n",
        "# If these are separate files, they need to be imported properly\n",
        "# from T3 import mod1\n",
        "# from T3 import mod2\n",
        "# mod1.display()\n",
        "# res = mod2.sum(1, 2)\n",
        "# print(res)"
      ]
    }
  ]
}