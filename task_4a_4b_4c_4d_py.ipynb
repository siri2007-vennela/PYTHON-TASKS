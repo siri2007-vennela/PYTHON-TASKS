{
  "nbformat": 4,
  "nbformat_minor": 0,
  "metadata": {
    "colab": {
      "provenance": []
    },
    "kernelspec": {
      "name": "python3",
      "display_name": "Python 3"
    },
    "language_info": {
      "name": "python"
    }
  },
  "cells": [
    {
      "cell_type": "code",
      "execution_count": null,
      "metadata": {
        "id": "kpcvBrb7HRuH"
      },
      "outputs": [],
      "source": [
        "sample=[]\n",
        "sample.insert(0,12)\n",
        "print(sample)\n",
        "sample.insert(1,4)\n",
        "print(sample)\n",
        "number\n",
        "of\n",
        "commands.\n",
        "sample.insert(2,2)\n",
        "print(sample)\n",
        "sample.insert(3,4)\n",
        "print(sample)\n",
        "sample.remove(4)\n",
        "print(sample)\n",
        "sample.append(21)\n",
        "print(sample)\n",
        "sample.sort()\n",
        "print(sample)\n",
        "sample.pop()\n",
        "print(sample)\n",
        "sample.reverse()\n",
        "print(sample)\n",
        "a = list(range(10))\n",
        "print(a)\n",
        "\n",
        "\n",
        "alist = []\n",
        "for i in range(int(input())):\n",
        "name = input()\n",
        "score = float(input())\n",
        "alist.append([name, score])\n",
        "second_highest = sorted(set([score for name, score in alist]))[1]  // List comprehension--iterates\n",
        "over each element of  alist, unpacks each element into name and\n",
        "score, selects only the  score part, and constructs a new sequence (e.g., a list) containing only\n",
        "the scores.\n",
        "print('\\n'.join(sorted([name for name, score in alist if score == second_highest])))  //List  comprehension\n",
        "This joins the sorted list of names into a single string, with each name on a new line.\n",
        "\n",
        "\n",
        "n = int(input())\n",
        "a = map(int, input().split())\n",
        "t = tuple(a)\n",
        "print(hash(t));\n",
        "//\n",
        "is used to get the hash value of an object. We can hash only these\n",
        "types:  Hashable types: * bool * int * long * float * string * Unicode * tuple * code\n",
        "object\n",
        "We cannot hash of these types: Non-hashable types: * bytearray * list * set *\n",
        "dictionary * memoryview\n",
        "\n",
        "\n",
        "def min_paint_balloons(s):\n",
        "    # Count the number of amber and brass balloons\n",
        "    amber_count = s.count('a')\n",
        "    brass_count = s.count('b')\n",
        "\n",
        "    # Find the minimum count between amber and brass balloons\n",
        "    min_paint = min(amber_count, brass_count)\n",
        "\n",
        "    return min_paint\n",
        "\n",
        "# Input the number of test cases\n",
        "T = int(input(\"enter the total testcase\"))\n",
        "# Iterate through each test case\n",
        "for i in range(T):\n",
        "# Input the string representing balloon colors\n",
        "s = input().strip()    #strip() is used to read a line of input from the user and remove any leading and\n",
        "trailing whitespace from that input\n",
        "# Calculate and print the minimum number of balloons needed to be painted\n",
        "print(min_paint_balloons(s))"
      ]
    }
  ]
}