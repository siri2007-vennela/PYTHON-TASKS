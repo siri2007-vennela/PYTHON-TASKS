{
  "nbformat": 4,
  "nbformat_minor": 0,
  "metadata": {
    "colab": {
      "provenance": []
    },
    "kernelspec": {
      "name": "python3",
      "display_name": "Python 3"
    },
    "language_info": {
      "name": "python"
    }
  },
  "cells": [
    {
      "cell_type": "code",
      "execution_count": null,
      "metadata": {
        "id": "WMOIRvZZKjN_"
      },
      "outputs": [],
      "source": [
        "def find_discount(qty):\n",
        "if qty <= 10:\n",
        "return 0\n",
        "elif 11 <= qty <= 20:\n",
        "return 15\n",
        "else:\n",
        "return 20\n",
        "def buy():\n",
        "ICode = int(input(\"Enter Item Code: \"))\n",
        "Item = input(\"Enter Item Name: \")\n",
        "Price = float(input(\"Enter Price: \"))\n",
        "Qty = int(input(\"Enter Quantity: \"))\n",
        "Discount = find_discount(Qty)\n",
        "Netprice = Price * Qty - Discount\n",
        "return ICode, Item, Price, Qty, Discount, Netprice\n",
        "def show_all(ICode, Item, Price, Qty, Discount, Netprice):\n",
        "print(\"Item Code:\", ICode)\n",
        "print(\"Item:\", Item)\n",
        "print(\"Price:\", Price)\n",
        "print(\"Quantity:\", Qty)\n",
        "print(\"Discount:\", Discount)\n",
        "print(\"Net Price:\", Netprice)\n",
        "ICode, Item, Price, Qty, Discount, Netprice = buy()\n",
        "show_all(ICode, Item, Price, Qty, Discount, Netprice)\n",
        "\n",
        "\n",
        "def cube_product_of_natural_numbers(n):\n",
        "product = 1\n",
        "for i in range(1, n + 1):\n",
        "product *= i ** 3\n",
        "return product\n",
        "# Get input from the user\n",
        "n = int(input(\"Enter the value of N: \"))\n",
        "# Calculate the cube product\n",
        "result = cube_product_of_natural_numbers(n)\n",
        "# Output the result\n",
        "print(\"Cube product of the first\", n, \"natural numbers is:\", result)\n",
        "\n",
        "\n",
        "def func_compute(n):\n",
        "return lambda x: x * n\n",
        "result = func_compute(2)\n",
        "print(\"Double the number of 15 =\", result(15))\n",
        "result = func_compute(3)\n",
        "print(\"Triple the number of 15 =\", result(15))\n",
        "result = func_compute(4)\n",
        "print(\"Quadruple the number of 15 =\", result(15))\n",
        "result = func_compute(5)\n",
        "print(\"Quintuple the number 15 =\", result(15))\n",
        "\n",
        "\n",
        "def categorize_tickets(ticket_ids):\n",
        "adult_tickets = list(filter(lambda x: x % 2 == 0, ticket_ids))\n",
        "child_tickets = list(filter(lambda x: x % 2 != 0, ticket_ids))\n",
        "return adult_tickets, child_tickets\n",
        "ticket_ids = [101, 202, 305, 410, 513, 620, 723, 830, 945, 1050]\n",
        "# Categorize the tickets\n",
        "adult_tickets, child_tickets = categorize_tickets(ticket_ids)\n",
        "# Print the results\n",
        "print(\"Adult Tickets:\", adult_tickets)\n",
        "print(\"Child Tickets:\", child_tickets)\n",
        "\n",
        "\n",
        "\n",
        "\n"
      ]
    }
  ]
}