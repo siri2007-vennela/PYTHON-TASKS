{
  "nbformat": 4,
  "nbformat_minor": 0,
  "metadata": {
    "colab": {
      "provenance": []
    },
    "kernelspec": {
      "name": "python3",
      "display_name": "Python 3"
    },
    "language_info": {
      "name": "python"
    }
  },
  "cells": [
    {
      "cell_type": "code",
      "execution_count": null,
      "metadata": {
        "id": "6l_ZnS-cLOne"
      },
      "outputs": [],
      "source": [
        "def fibonacci():\n",
        "a, b = 0, 1\n",
        "for _ in range(10): # Generate Fibonacci numbers using a generator function\n",
        "yield a\n",
        "a, b = b, a + b\n",
        "fibonacci_series = fibonacci() # Create a generator object for Fibonacci series\n",
        "for number in fibonacci_series: # Print the first 10 Fibonacci numbers\n",
        "print(number, end=\" \")\n",
        "\n",
        "def squares():\n",
        "for i in range(5): # Generate squares of numbers 0 through 4\n",
        "yield i ** 2\n",
        "# Create a generator object for squares of numbers 0 through 4\n",
        "squares_generator = squares()\n",
        "# Iterate over the generator object and print the squares\n",
        "for square in squares_generator:\n",
        "print(square)\n",
        "\n",
        "\n",
        "# Decorator function to decorate arithmetic operations\n",
        "def operation_decorator(func):\n",
        "def wrapper(x, y):\n",
        "print(\"Performing arithmetic operation...\")\n",
        "result = func(x, y)\n",
        "print(\"Operation completed.\")\n",
        "return result\n",
        "return wrapper\n",
        "# Applying decorator to arithmetic operations\n",
        "@operation_decorator\n",
        "def add(x, y):\n",
        "return x + y\n",
        "@operation_decorator\n",
        "def divide(x, y):\n",
        "if y == 0:\n",
        "return \"Cannot divide by zero!\"\n",
        "else:\n",
        "return x / y\n",
        "result_add = add(5, 3)\n",
        "print(\"Result of addition:\", result_add)\n",
        "result_divide = divide(15, 0)\n",
        "print(\"Result of division:\", result_divide)\n",
        "\n",
        "\n"
      ]
    }
  ]
}