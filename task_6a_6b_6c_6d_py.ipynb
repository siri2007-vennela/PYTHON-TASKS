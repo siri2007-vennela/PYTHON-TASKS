{
  "nbformat": 4,
  "nbformat_minor": 0,
  "metadata": {
    "colab": {
      "provenance": []
    },
    "kernelspec": {
      "name": "python3",
      "display_name": "Python 3"
    },
    "language_info": {
      "name": "python"
    }
  },
  "cells": [
    {
      "cell_type": "code",
      "execution_count": null,
      "metadata": {
        "id": "jcpobKfMJ5Iy"
      },
      "outputs": [],
      "source": [
        "def copy_files(file_paths):\n",
        "for file_path in file_paths:\n",
        "if os.path.exists(file_path):\n",
        "with open(file_path, 'r') as original_file:\n",
        "original_content = original_file.read()\n",
        "copy_file_path = file_path.split('.')[0] + '_copy.' + file_path.split('.')[1]\n",
        "with open(copy_file_path, 'w') as copy_file:\n",
        "copy_file.write(original_content)\n",
        "print(f\"Contents copied from {file_path} to {copy_file_path} successfully.\")\n",
        "else:\n",
        "print(f\"Error: File '{file_path}' not found.\")\n",
        "# Example usage:\n",
        "import os\n",
        "file_list = ['file1.txt', 'file2.txt', 'file3.txt']  # List of file paths\n",
        "copy_files(file_list)\n",
        "\n",
        "def create_file_and_count_occurrences():\n",
        "# Creating a file\n",
        "file_name = input(\"Enter the file name to create: \")\n",
        "with open(file_name, 'w') as file:\n",
        "print(\"Enter the contents of the file (press Enter to finish):\")\n",
        "while True:\n",
        "line = input()\n",
        "if not line:\n",
        "break\n",
        "file.write(line + '\\n')\n",
        "# Displaying contents of the file\n",
        "print(\"\\nContents of the file:\")\n",
        "with open(file_name, 'r') as file:\n",
        "print(file.read())\n",
        "# Counting occurrences of a letter\n",
        "letter = input(\"\\nEnter the letter to count occurrences: \")\n",
        "with open(file_name, 'r') as file:\n",
        "content = file.read()\n",
        "count = content.count(letter)\n",
        "print(f\"\\nThe letter '{letter}' occurs {count} times in the file.\")\n",
        "# Calling the function\n",
        "create_file_and_count_occurrences()\n",
        "\n",
        "def create_file_and_count_words():\n",
        "    # Creating a file\n",
        "    file_name = input(\"Enter the file name to create: \")\n",
        "    with open(file_name, 'w') as file:\n",
        "        print(\"Enter the contents of the file (press Enter to finish):\")\n",
        "        while True:\n",
        "            line = input()\n",
        "            if not line:\n",
        "                break\n",
        "            file.write(line + '\\n')\n",
        "   # Displaying contents of the file\n",
        "    print(\"\\nContents of the file:\")\n",
        "    with open(file_name, 'r') as file:\n",
        "        print(file.read())\n",
        "    # Counting words in the file\n",
        "    with open(file_name, 'r') as file:\n",
        "        content = file.read()\n",
        "        word_count = len(content.split())\n",
        "        print(f\"\\nThe number of words in the file is: {word_count}\")\n",
        "# Calling the function\n",
        "create_file_and_count_words()\n",
        "\n",
        "\n",
        "import csv\n",
        "with open('apple_quality.csv','r') as file:\n",
        "data=csv.reader(file)\n",
        "for row in data:\n",
        "print(row)\n",
        "\n"
      ]
    }
  ]
}